{
 "cells": [
  {
   "cell_type": "markdown",
   "id": "c99d709f",
   "metadata": {},
   "source": [
    "## Behavioral Data Analysis\n",
    "\n",
    "#### Created on 07/25/2023 <br/> Created by Daon Lee (onlyforres@gmail.com)"
   ]
  },
  {
   "cell_type": "code",
   "execution_count": 2,
   "id": "769f83c4",
   "metadata": {
    "ExecuteTime": {
     "end_time": "2025-04-21T01:27:24.722547Z",
     "start_time": "2025-04-21T01:27:24.711131Z"
    },
    "code_folding": [
     0
    ]
   },
   "outputs": [
    {
     "name": "stdout",
     "output_type": "stream",
     "text": [
      "2.1.3\n",
      "1.24.1\n"
     ]
    }
   ],
   "source": [
    "### preparation\n",
    "\n",
    "import os\n",
    "import glob\n",
    "import numpy as np\n",
    "import pandas as pd\n",
    "\n",
    "\n",
    "### set path: bhv or physio 여부 변경 필!\n",
    "\n",
    "datapath = r'/Users/daonly/Library/Mobile Documents/com~apple~CloudDocs/Res/Conformity/data/bhv'\n",
    "savepath = r'/Users/daonly/Library/Mobile Documents/com~apple~CloudDocs/Res/Conformity/analysis/bhv'\n",
    "\n",
    "#datapath = r'C:\\Users\\LSD\\Desktop\\Res\\Conformity\\data\\bhv'\n",
    "#savepath = r'C:\\Users\\LSD\\Desktop\\Res\\Conformity\\analysis\\bhv'\n",
    "\n",
    "print(pd.__version__)\n",
    "print(np.__version__)"
   ]
  },
  {
   "cell_type": "markdown",
   "id": "590258c2",
   "metadata": {
    "heading_collapsed": true
   },
   "source": [
    "### Dilemma Task Data Reconstruction"
   ]
  },
  {
   "cell_type": "code",
   "execution_count": 5,
   "id": "1c96f6ac",
   "metadata": {
    "ExecuteTime": {
     "end_time": "2024-10-18T07:01:42.912045Z",
     "start_time": "2024-10-18T07:01:39.315076Z"
    },
    "code_folding": [
     0
    ],
    "hidden": true
   },
   "outputs": [
    {
     "name": "stdout",
     "output_type": "stream",
     "text": [
      "Complete\n"
     ]
    }
   ],
   "source": [
    "### calculate group consensus for initDist\n",
    "\n",
    "from scipy.stats import pearsonr\n",
    "\n",
    "taskname = 'Dilemma'\n",
    "\n",
    "scendf = pd.DataFrame()\n",
    "\n",
    "lists = {f'list{i}': [] for i in range(1, 41)}\n",
    "listbs = {f'list{i}b': [] for i in range(1, 41)}\n",
    "\n",
    "for i in range(23, 96):\n",
    "    if i == 33 or i == 38 or i == 68 or i == 75 or i == 79:\n",
    "        continue \n",
    "        \n",
    "    globals()[\"adjdf{}\".format(i)] = pd.read_excel(datapath+f'/adj{taskname}-{i}.xlsx', header=0, usecols=range(1, 17))\n",
    "    rawdf = globals()[f'adjdf{i}']\n",
    "\n",
    "    for j in range(1, 41):\n",
    "        for index, row in rawdf.iterrows():\n",
    "            if type(row['TrialNum']) == int and row['snNum'] == j:\n",
    "                lists[f'list{j}'].append(row['quesResp'])\n",
    "                listbs[f'list{j}b'].append(row['quesBina'])\n",
    "\n",
    "for k in range(1, 41):\n",
    "    scendf.loc[k, 'snNum'] = k\n",
    "    scendf.loc[k, 'avg_dec'] = np.mean(lists[f'list{k}'])\n",
    "    scendf.loc[k, 'avg_dec_bin'] = np.mean(listbs[f'list{k}b'])\n",
    "    \n",
    "savefile = f'{datapath}/Main/initDist.xlsx'\n",
    "scendf.to_excel(savefile, index=False, header=True, startrow=0)\n",
    "print(\"Complete\")"
   ]
  },
  {
   "cell_type": "code",
   "execution_count": 22,
   "id": "754eafd3",
   "metadata": {
    "ExecuteTime": {
     "end_time": "2024-11-26T06:26:34.677039Z",
     "start_time": "2024-11-26T06:26:33.945673Z"
    },
    "code_folding": [
     0
    ],
    "hidden": true,
    "scrolled": true
   },
   "outputs": [
    {
     "name": "stdout",
     "output_type": "stream",
     "text": [
      "Complete\n"
     ]
    }
   ],
   "source": [
    "### group bhv data setting w/ PE & confidence\n",
    "\n",
    "from scipy.stats import pearsonr\n",
    "#import warnings\n",
    "\n",
    "#warnings.filterwarnings(\"ignore\", category=RuntimeWarning)  ##conflict 있으면 HL는 비어 있는 게 당연해서 경고 끔\n",
    "\n",
    "taskname = 'Dilemma'\n",
    "\n",
    "scendf1 = pd.read_excel(datapath+'/Main/scenarios_1.xlsx')\n",
    "scendf2 = pd.read_excel(datapath+'/Main/scenarios_2.xlsx')\n",
    "pardf = pd.read_excel(datapath+'/Main/Participants.xlsx')\n",
    "bhvdf = pd.DataFrame()\n",
    "\n",
    "for i in range(23, 96):\n",
    "    if i == 33 or i == 38 or i == 68 or i == 75 or i == 79:\n",
    "        continue \n",
    "        \n",
    "    globals()[\"adjdf{}\".format(i)] = pd.read_excel(datapath+f'/Main/encDilemma/enc{taskname}-{i}.xlsx', header=0)\n",
    "    rawdf = globals()[f'adjdf{i}']\n",
    "    \n",
    "    ## SubID\n",
    "    SubID = str(rawdf.loc[1,'SubID'])\n",
    "    bhvdf.loc[i, 'SubID'] = SubID\n",
    "    \n",
    "    ## individual data\n",
    "    for index, row in pardf.iterrows():\n",
    "        if row['SubID'] == i:\n",
    "            bhvdf.loc[i, 'age'] = row['age']\n",
    "            bhvdf.loc[i, 'sex'] = str(row['sex'])\n",
    "            \n",
    "    ## cardiac data\n",
    "    for index, row in pardf.iterrows():\n",
    "        if row['SubID'] == i:\n",
    "            bhvdf.loc[i, 'IAcc'] = row['IAcc']\n",
    "            bhvdf.loc[i, 'IAw'] = row['IAw']\n",
    "\n",
    "    \n",
    "    ## absChange\n",
    "    bhvdf.loc[i, 'meanConf'] = np.mean(rawdf['meanConf'])\n",
    "                                      \n",
    "    \n",
    "savefile = f'{datapath}/Main/allData.xlsx'\n",
    "bhvdf.to_excel(savefile, index=False, header=True, startrow=0)\n",
    "print(\"Complete\")"
   ]
  },
  {
   "cell_type": "code",
   "execution_count": 7,
   "id": "f4daefb1",
   "metadata": {
    "ExecuteTime": {
     "end_time": "2024-10-31T02:04:08.042092Z",
     "start_time": "2024-10-31T02:04:06.319367Z"
    },
    "code_folding": [
     0
    ],
    "hidden": true
   },
   "outputs": [
    {
     "name": "stdout",
     "output_type": "stream",
     "text": [
      "Complete\n"
     ]
    }
   ],
   "source": [
    "### for GLMM\n",
    "\n",
    "taskname = 'Dilemma'\n",
    "\n",
    "scendf2 = pd.read_excel(datapath+'/Main/scenarios_2.xlsx')\n",
    "encdf = pd.DataFrame()\n",
    "\n",
    "## encDilemma-summary\n",
    "\n",
    "for i in range(23, 96):\n",
    "    if i == 33 or i == 38 or i == 68 or i == 75 or i == 79:\n",
    "        continue \n",
    "        \n",
    "    globals()[\"adjdf{}\".format(i)] = pd.read_excel(datapath+f'/adj{taskname}-{i}.xlsx', header=0, usecols=range(1, 19))\n",
    "    rawdf = globals()[f'adjdf{i}']\n",
    "    \n",
    "    df = rawdf[['TrialNum', 'TrialNum2', 'snNum', 'quesResp']]\n",
    "    list1, list2, list3, list4 = [], [], [], []\n",
    "    for index, row in df.iterrows():\n",
    "        if type(row['TrialNum']) == int:\n",
    "            list1.append(row['snNum'])\n",
    "            list2.append(row['quesResp'])\n",
    "        elif type(row['TrialNum2']) == int:\n",
    "            list3.append(row['snNum'])\n",
    "            list4.append(row['TrialNum2'])\n",
    "    df1 = pd.DataFrame({'snNum1': list1, 'quesResp1': list2})\n",
    "    df2 = pd.DataFrame({'snNum2': list3, 'trialNum2':list4})\n",
    "    df1 = df1.sort_values(by='snNum1'); df2 = df2. sort_values(by='snNum2')\n",
    "    df1 = df1.set_index('snNum1'); df2 = df2.set_index('snNum2')\n",
    "    df = pd.concat([df1['quesResp1'], df2['trialNum2']], axis=1).sort_values(by='trialNum2')\n",
    "    df['initRate'] = df['quesResp1']\n",
    "    rawdf['initRate'] = None\n",
    "    rawdf.loc[43:82, 'initRate'] = df['initRate'].values\n",
    "    \n",
    "    rawdf = rawdf.drop(list(range(48))+[57, 63, 75, 81, 82, 83, 84]).reset_index(drop=True)\n",
    "    rawdf = rawdf[['SubID', 'TrialNum2', 'snDiff', 'initRate', 'quesResp', 'quesRTZ', 'quesUtil', 'trend', 'PE', 'absPE', 'change', 'drift']]\n",
    "\n",
    "    rawdf['absChan'] = rawdf['change'].apply(np.abs)\n",
    "\n",
    "    ## diff\n",
    "    list1 = []\n",
    "    for index, row in rawdf.iterrows():\n",
    "        if row['snDiff'] == 'easy':\n",
    "            list1.append(10)\n",
    "        elif row['snDiff'] == 'normal':\n",
    "            list1.append(20)\n",
    "        elif row['snDiff'] == 'hard':\n",
    "            list1.append(30)\n",
    "    df = pd.DataFrame({'diff': list1})\n",
    "    rawdf = pd.concat([rawdf, df], axis=1)\n",
    "    \n",
    "    ## adjQuesUtil\n",
    "    list1 = []\n",
    "    for index, row in rawdf.iterrows():\n",
    "        if row['quesUtil'] == 0:\n",
    "            list1.append(-10)\n",
    "        elif row['quesUtil'] == 1:\n",
    "            list1.append(10)\n",
    "    df = pd.DataFrame({'adjQuesUtil': list1})\n",
    "    rawdf = pd.concat([rawdf, df], axis=1)\n",
    "    \n",
    "    ## rateUtil\n",
    "    list1 = []\n",
    "    for index, row in rawdf.iterrows():\n",
    "        if row['quesUtil'] == 0 and row['quesResp'] < 50:\n",
    "            list1.append(10)\n",
    "        elif row['quesUtil'] == 1 and row['quesResp'] >= 50:\n",
    "            list1.append(10)\n",
    "        else:\n",
    "            list1.append(-10)\n",
    "    df = pd.DataFrame({'rateUtil': list1})\n",
    "    rawdf = pd.concat([rawdf, df], axis=1)\n",
    "    \n",
    "    encdf = pd.concat([encdf, rawdf], axis=0)\n",
    "    \n",
    "encdf = encdf[['SubID', 'TrialNum2', 'diff', 'initRate', 'quesResp', 'PE', 'absPE', 'trend', 'absChan', 'drift', 'quesRTZ', 'adjQuesUtil', 'rateUtil']]  \n",
    "encdf = encdf.rename(columns={'quesResp': 'finaRate'})\n",
    "encdf['confidence'] = encdf['initRate'].apply(lambda x: x - 50 if x > 50 else 50 - x)\n",
    "encdf['conflict'] = np.where(\n",
    "    ((encdf['initRate'] <= 50) & (encdf['trend'] <= 50)) | ((encdf['initRate'] >= 50) & (encdf['trend'] >= 50)), \n",
    "    -10, \n",
    "    10\n",
    ")\n",
    "\n",
    "encdf['personal'] = None\n",
    "for idx, enc_row in encdf.iterrows():\n",
    "    matching_rows = scendf2[scendf2['order2'] == enc_row['TrialNum2']]\n",
    "    if not matching_rows.empty:\n",
    "        encdf.at[idx, 'personal'] = matching_rows.iloc[0]['JY_personal']\n",
    "\n",
    "\n",
    "savefile = f'{datapath}/Main/encDilemma.xlsx'\n",
    "encdf.to_excel(savefile, index=False, header=True, startrow=0)\n",
    "print(\"Complete\")"
   ]
  },
  {
   "cell_type": "markdown",
   "id": "7f20df7c",
   "metadata": {
    "heading_collapsed": true
   },
   "source": [
    "### Bhv Data Analyses"
   ]
  },
  {
   "cell_type": "code",
   "execution_count": 18,
   "id": "fc6e8696",
   "metadata": {
    "ExecuteTime": {
     "end_time": "2025-03-27T13:57:59.231120Z",
     "start_time": "2025-03-27T13:57:58.971579Z"
    },
    "code_folding": [
     0
    ],
    "hidden": true
   },
   "outputs": [
    {
     "name": "stdout",
     "output_type": "stream",
     "text": [
      "Complete\n"
     ]
    }
   ],
   "source": [
    "### regression plots\n",
    "import seaborn as sns\n",
    "from scipy import stats\n",
    "import matplotlib.pyplot as plt\n",
    "from itertools import combinations\n",
    "\n",
    "conds = ['stanIAw', 'initDist', 'absChan']\n",
    "\n",
    "for cond1, cond2 in combinations(conds, 2):\n",
    "    corr, p_value = stats.pearsonr(corrdf[f'{cond1}'], corrdf[f'{cond2}'])\n",
    "    p_value = p_value/2\n",
    "    comparison = f'{cond1} & {cond2}'\n",
    "    goal.append({'Pair': comparison, 'corr': corr, 'p_value': p_value})\n",
    "    \n",
    "    sns.regplot(\n",
    "        x=cond1, y=cond2, data=corrdf,\n",
    "        scatter_kws={'color': '#808080', 's': 30, 'alpha': 0.7},  \n",
    "        line_kws={'color': '#0375C9', 'linewidth': 2},  \n",
    "    )\n",
    "    plt.xlabel(f'{cond1}')\n",
    "    plt.ylabel(f'{cond2}')\n",
    "    plt.savefig(savepath+f'{cond1}_{cond2}')\n",
    "    plt.close()\n",
    "\n",
    "print(\"Complete\")"
   ]
  },
  {
   "cell_type": "markdown",
   "id": "9116d89c",
   "metadata": {
    "heading_collapsed": true
   },
   "source": [
    "### Non-linear Relationship"
   ]
  },
  {
   "cell_type": "code",
   "execution_count": 12,
   "id": "19132b21",
   "metadata": {
    "ExecuteTime": {
     "end_time": "2025-04-08T03:46:14.113007Z",
     "start_time": "2025-04-08T03:46:13.923718Z"
    },
    "code_folding": [
     0
    ],
    "hidden": true
   },
   "outputs": [
    {
     "name": "stdout",
     "output_type": "stream",
     "text": [
      "=== Linear Regression ===\n",
      "MSE: 0.0349, R²: 0.0684\n",
      "\n",
      "=== Quadratic Regression ===\n",
      "MSE: 0.0324, R²: 0.1340\n",
      "                            OLS Regression Results                            \n",
      "==============================================================================\n",
      "Dep. Variable:                      y   R-squared:                       0.134\n",
      "Model:                            OLS   Adj. R-squared:                  0.107\n",
      "Method:                 Least Squares   F-statistic:                     5.029\n",
      "Date:                Tue, 08 Apr 2025   Prob (F-statistic):            0.00931\n",
      "Time:                        12:46:13   Log-Likelihood:                 20.066\n",
      "No. Observations:                  68   AIC:                            -34.13\n",
      "Df Residuals:                      65   BIC:                            -27.47\n",
      "Df Model:                           2                                         \n",
      "Covariance Type:            nonrobust                                         \n",
      "==============================================================================\n",
      "                 coef    std err          t      P>|t|      [0.025      0.975]\n",
      "------------------------------------------------------------------------------\n",
      "const          0.2451      0.035      6.998      0.000       0.175       0.315\n",
      "x1            -0.0361      0.054     -0.674      0.503      -0.143       0.071\n",
      "x2            -0.2107      0.095     -2.220      0.030      -0.400      -0.021\n",
      "==============================================================================\n",
      "Omnibus:                        3.898   Durbin-Watson:                   1.970\n",
      "Prob(Omnibus):                  0.142   Jarque-Bera (JB):                3.487\n",
      "Skew:                           0.471   Prob(JB):                        0.175\n",
      "Kurtosis:                       2.413   Cond. No.                         5.15\n",
      "==============================================================================\n",
      "\n",
      "Notes:\n",
      "[1] Standard Errors assume that the covariance matrix of the errors is correctly specified.\n",
      "Quadratic Term (β₂): -0.2107, p-value: 0.0299\n",
      "\n",
      "Detected Shape: Inverted U-shape\n",
      "\n",
      "=== Left Linear Regression ===\n",
      "                            OLS Regression Results                            \n",
      "==============================================================================\n",
      "Dep. Variable:                      y   R-squared:                       0.164\n",
      "Model:                            OLS   Adj. R-squared:                  0.108\n",
      "Method:                 Least Squares   F-statistic:                     2.934\n",
      "Date:                Tue, 08 Apr 2025   Prob (F-statistic):              0.107\n",
      "Time:                        12:46:13   Log-Likelihood:                 2.1849\n",
      "No. Observations:                  17   AIC:                           -0.3698\n",
      "Df Residuals:                      15   BIC:                             1.297\n",
      "Df Model:                           1                                         \n",
      "Covariance Type:            nonrobust                                         \n",
      "==============================================================================\n",
      "                 coef    std err          t      P>|t|      [0.025      0.975]\n",
      "------------------------------------------------------------------------------\n",
      "const          0.4482      0.128      3.488      0.003       0.174       0.722\n",
      "x1             0.4608      0.269      1.713      0.107      -0.113       1.034\n",
      "==============================================================================\n",
      "Omnibus:                        5.946   Durbin-Watson:                   1.087\n",
      "Prob(Omnibus):                  0.051   Jarque-Bera (JB):                1.675\n",
      "Skew:                          -0.221   Prob(JB):                        0.433\n",
      "Kurtosis:                       1.527   Cond. No.                         5.84\n",
      "==============================================================================\n",
      "\n",
      "Notes:\n",
      "[1] Standard Errors assume that the covariance matrix of the errors is correctly specified.\n",
      "\n",
      "=== Right Linear Regression ===\n",
      "                            OLS Regression Results                            \n",
      "==============================================================================\n",
      "Dep. Variable:                      y   R-squared:                       0.062\n",
      "Model:                            OLS   Adj. R-squared:                  0.043\n",
      "Method:                 Least Squares   F-statistic:                     3.256\n",
      "Date:                Tue, 08 Apr 2025   Prob (F-statistic):             0.0773\n",
      "Time:                        12:46:13   Log-Likelihood:                 19.920\n",
      "No. Observations:                  51   AIC:                            -35.84\n",
      "Df Residuals:                      49   BIC:                            -31.98\n",
      "Df Model:                           1                                         \n",
      "Covariance Type:            nonrobust                                         \n",
      "==============================================================================\n",
      "                 coef    std err          t      P>|t|      [0.025      0.975]\n",
      "------------------------------------------------------------------------------\n",
      "const          0.2151      0.051      4.241      0.000       0.113       0.317\n",
      "x1            -0.1492      0.083     -1.805      0.077      -0.315       0.017\n",
      "==============================================================================\n",
      "Omnibus:                        3.503   Durbin-Watson:                   2.043\n",
      "Prob(Omnibus):                  0.174   Jarque-Bera (JB):                3.089\n",
      "Skew:                           0.602   Prob(JB):                        0.213\n",
      "Kurtosis:                       2.924   Cond. No.                         4.65\n",
      "==============================================================================\n",
      "\n",
      "Notes:\n",
      "[1] Standard Errors assume that the covariance matrix of the errors is correctly specified.\n",
      "\n",
      "=== F-Test Between Left and Right Slopes ===\n",
      "F-statistic: 4.6979, p-value: 0.0339\n"
     ]
    },
    {
     "name": "stderr",
     "output_type": "stream",
     "text": [
      "/Users/daonly/anaconda3/lib/python3.11/site-packages/scipy/stats/_stats_py.py:1736: UserWarning: kurtosistest only valid for n>=20 ... continuing anyway, n=17\n",
      "  warnings.warn(\"kurtosistest only valid for n>=20 ... continuing \"\n"
     ]
    },
    {
     "data": {
      "image/png": "[encoded data removed]",
      "text/plain": [
       "<Figure size 1000x600 with 1 Axes>"
      ]
     },
     "metadata": {},
     "output_type": "display_data"
    },
    {
     "name": "stdout",
     "output_type": "stream",
     "text": [
      "\n",
      "Complete!\n"
     ]
    }
   ],
   "source": [
    "#### Non-linear Fitting: betaPE ~ IAw\n",
    "\n",
    "import matplotlib.pyplot as plt\n",
    "from sklearn.linear_model import LinearRegression\n",
    "from sklearn.preprocessing import PolynomialFeatures\n",
    "from sklearn.metrics import mean_squared_error, r2_score\n",
    "import statsmodels.api as sm\n",
    "import scipy.stats as stats\n",
    "\n",
    "# 데이터 불러오기\n",
    "data = pd.read_excel('/Users/daonly/Library/Mobile Documents/com~apple~CloudDocs/Res/Conformity/data/PE_IAw.xlsx')\n",
    "X = data['IAw'].values.reshape(-1, 1)\n",
    "y = data['beta_PE'].values\n",
    "\n",
    "\n",
    "### 1. 선형 회귀\n",
    "linear_model = LinearRegression()\n",
    "linear_model.fit(X, y)\n",
    "linear_y_pred = linear_model.predict(X)\n",
    "\n",
    "linear_mse = mean_squared_error(y, linear_y_pred)\n",
    "linear_r2 = r2_score(y, linear_y_pred)\n",
    "\n",
    "### 2. 다항 회귀 (2차)\n",
    "poly = PolynomialFeatures(degree=2, include_bias=False)\n",
    "X_poly = poly.fit_transform(X)\n",
    "X_poly_const = sm.add_constant(X_poly)\n",
    "\n",
    "poly_model = sm.OLS(y, X_poly_const).fit()\n",
    "beta_0, beta_1, beta_2 = poly_model.params\n",
    "poly_y_pred = poly_model.predict(X_poly_const)\n",
    "\n",
    "poly_mse = mean_squared_error(y, poly_y_pred)\n",
    "poly_r2 = r2_score(y, poly_y_pred)\n",
    "\n",
    "# 극값(vertex)\n",
    "vertex = -beta_1 / (2 * beta_2)\n",
    "vertex_in_range = X.min() <= vertex <= X.max()\n",
    "beta_2_p_value = poly_model.pvalues[2]\n",
    "\n",
    "print(\"=== Linear Regression ===\")\n",
    "print(f\"MSE: {linear_mse:.4f}, R²: {linear_r2:.4f}\")\n",
    "print(\"\\n=== Quadratic Regression ===\")\n",
    "print(f\"MSE: {poly_mse:.4f}, R²: {poly_r2:.4f}\")\n",
    "print(poly_model.summary())\n",
    "print(f\"Quadratic Term (β₂): {beta_2:.4f}, p-value: {beta_2_p_value:.4f}\")\n",
    "\n",
    "if beta_2 > 0:\n",
    "    u_type = \"U-shape\"\n",
    "elif beta_2 < 0:\n",
    "    u_type = \"Inverted U-shape\"\n",
    "else:\n",
    "    u_type = \"None\"\n",
    "print(f\"\\nDetected Shape: {u_type}\")\n",
    "\n",
    "### 3. 좌/우 분할 회귀 분석\n",
    "left_data = data[data['IAw'] <= vertex]\n",
    "right_data = data[data['IAw'] > vertex]\n",
    "\n",
    "# 좌측\n",
    "if not left_data.empty:\n",
    "    X_left = left_data['IAw'].values.reshape(-1, 1)\n",
    "    y_left = left_data['beta_PE'].values\n",
    "    left_model = sm.OLS(y_left, sm.add_constant(X_left)).fit()\n",
    "    left_slope = left_model.params[1]\n",
    "    left_p = left_model.pvalues[1]\n",
    "    print(\"\\n=== Left Linear Regression ===\")\n",
    "    print(left_model.summary())\n",
    "else:\n",
    "    left_model = None\n",
    "    left_slope = None\n",
    "    left_p = None\n",
    "    print(\"\\nNo data for left-side regression.\")\n",
    "\n",
    "# 우측\n",
    "if not right_data.empty:\n",
    "    X_right = right_data['IAw'].values.reshape(-1, 1)\n",
    "    y_right = right_data['beta_PE'].values\n",
    "    right_model = sm.OLS(y_right, sm.add_constant(X_right)).fit()\n",
    "    right_slope = right_model.params[1]\n",
    "    right_p = right_model.pvalues[1]\n",
    "    print(\"\\n=== Right Linear Regression ===\")\n",
    "    print(right_model.summary())\n",
    "else:\n",
    "    right_model = None\n",
    "    right_slope = None\n",
    "    right_p = None\n",
    "    print(\"\\nNo data for right-side regression.\")\n",
    "\n",
    "# F-test\n",
    "if left_model is not None and right_model is not None:\n",
    "    f_stat = ((left_slope - right_slope) ** 2) / (left_model.bse[1] ** 2 + right_model.bse[1] ** 2)\n",
    "    df1 = 1\n",
    "    df2 = left_model.df_resid + right_model.df_resid\n",
    "    f_p_value = 1 - stats.f.cdf(f_stat, df1, df2)\n",
    "    print(f\"\\n=== F-Test Between Left and Right Slopes ===\")\n",
    "    print(f\"F-statistic: {f_stat:.4f}, p-value: {f_p_value:.4f}\")\n",
    "else:\n",
    "    f_stat = None\n",
    "    f_p_value = None\n",
    "\n",
    "### 4. 그래프 그리기\n",
    "data['Color'] = data['sigCorr'].map({0: '#A6A6A6', 1: '#595959'})\n",
    "#data['Color'] = data['absChan_bin'].map({0: '#A6A6A6', 1: '#595959'})\n",
    "plt.figure(figsize=(10, 6))\n",
    "plt.scatter(X, y, color=data['Color'], label='Data', alpha=0.7)\n",
    "\n",
    "# 선형 회귀선\n",
    "#plt.plot(X, linear_y_pred, color='#4B82B6', label='Linear Regression', linewidth=2)\n",
    "\n",
    "# 2차 회귀 곡선\n",
    "X_sorted = np.sort(X, axis=0)\n",
    "X_sorted_poly = poly.transform(X_sorted)\n",
    "y_sorted_poly_pred = poly_model.predict(sm.add_constant(X_sorted_poly))\n",
    "#plt.plot(X_sorted, y_sorted_poly_pred, color='#4B82B6', label=f'Quadratic Regression ({u_type})', linewidth=2)\n",
    "plt.plot(X_sorted, y_sorted_poly_pred, color='#4B82B6', label=f'Quadratic Regression', linewidth=2)\n",
    "\n",
    "# 좌/우 회귀선\n",
    "if left_model is not None:\n",
    "    plt.plot(X_left, left_model.predict(sm.add_constant(X_left)), color='#595959', linestyle='--', label='Left Linear Fit')\n",
    "if right_model is not None:\n",
    "    plt.plot(X_right, right_model.predict(sm.add_constant(X_right)), color='#595959', linestyle='--', label='Right Linear Fit')\n",
    "\n",
    "# 극값 수직선\n",
    "if vertex_in_range:\n",
    "    plt.axvline(x=vertex, color='#DFDFDF', linestyle='--', label=f'Vertex: {vertex:.2f}')\n",
    "\n",
    "plt.xlabel('IAw')\n",
    "plt.ylabel('beta_PE')\n",
    "plt.title('Regression Analysis with Segment Linear Fits')\n",
    "plt.legend()\n",
    "plt.grid(True)\n",
    "plt.savefig('/Users/daonly/Library/Mobile Documents/com~apple~CloudDocs/Res/Conformity/analysis/bhv/nonlinearity/betaPE_IAw_regression_combined.png')\n",
    "plt.show()\n",
    "\n",
    "print(\"\\nComplete!\")"
   ]
  }
 ],
 "metadata": {
  "kernelspec": {
   "display_name": "Python 3 (ipykernel)",
   "language": "python",
   "name": "python3"
  },
  "language_info": {
   "codemirror_mode": {
    "name": "ipython",
    "version": 3
   },
   "file_extension": ".py",
   "mimetype": "text/x-python",
   "name": "python",
   "nbconvert_exporter": "python",
   "pygments_lexer": "ipython3",
   "version": "3.11.3"
  },
  "toc": {
   "base_numbering": 1,
   "nav_menu": {},
   "number_sections": true,
   "sideBar": true,
   "skip_h1_title": false,
   "title_cell": "Table of Contents",
   "title_sidebar": "Contents",
   "toc_cell": false,
   "toc_position": {},
   "toc_section_display": true,
   "toc_window_display": false
  },
  "varInspector": {
   "cols": {
    "lenName": 16,
    "lenType": 16,
    "lenVar": 40
   },
   "kernels_config": {
    "python": {
     "delete_cmd_postfix": "",
     "delete_cmd_prefix": "del ",
     "library": "var_list.py",
     "varRefreshCmd": "print(var_dic_list())"
    },
    "r": {
     "delete_cmd_postfix": ") ",
     "delete_cmd_prefix": "rm(",
     "library": "var_list.r",
     "varRefreshCmd": "cat(var_dic_list()) "
    }
   },
   "types_to_exclude": [
    "module",
    "function",
    "builtin_function_or_method",
    "instance",
    "_Feature"
   ],
   "window_display": false
  }
 },
 "nbformat": 4,
 "nbformat_minor": 5
}
